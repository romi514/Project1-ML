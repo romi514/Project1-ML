{
 "cells": [
  {
   "cell_type": "markdown",
   "metadata": {},
   "source": [
    "MAIN SCRIPT"
   ]
  },
  {
   "cell_type": "code",
   "execution_count": 1,
   "metadata": {
    "collapsed": true
   },
   "outputs": [],
   "source": [
    "import numpy as np\n",
    "from helpers import *\n",
    "from implementations import *\n",
    "from clean_data import clean_data\n",
    "from visualize_features import visualize_features\n",
    "from cross_validation import *\n",
    "from poly_reg import *\n",
    "%load_ext autoreload\n",
    "%autoreload 2"
   ]
  },
  {
   "cell_type": "code",
   "execution_count": 3,
   "metadata": {},
   "outputs": [],
   "source": [
    "# Load Data\n",
    "path_dataset_train = \"train.csv\"\n",
    "yb, input_data, ids = load_csv_data(path_dataset_train)\n",
    "\n",
    "path_dataset_test = \"test.csv\"\n",
    "yb_t, input_data_t, ids_t = load_csv_data(path_dataset_test)"
   ]
  },
  {
   "cell_type": "code",
   "execution_count": 5,
   "metadata": {},
   "outputs": [],
   "source": [
    "# Data Cleaning\n",
    "tx0, tx1, tx2, tx3, y0, y1, y2, y3, ids0, ids1, ids2, ids3 = clean_data(input_data,yb,ids)\n",
    "\n",
    "tx0_t, tx1_t, tx2_t, tx3_t, y0_t, y1_t, y2_t, y3_t, ids0_t, ids1_t, ids2_t, ids3_t= clean_data(input_data_t,yb_t,ids_t, test=True) "
   ]
  },
  {
   "cell_type": "code",
   "execution_count": 6,
   "metadata": {
    "collapsed": true
   },
   "outputs": [],
   "source": [
    "# Feature Visualization\n",
    "features = np.array([1,4,5]) # Features to compare\n",
    "visualize_features(tx0,y0,features,'Feature_comparision')"
   ]
  },
  {
   "cell_type": "code",
   "execution_count": 7,
   "metadata": {
    "collapsed": true
   },
   "outputs": [],
   "source": [
    "# Score the predictions\n",
    "def find_score(y,y_pred):\n",
    "    count = 0\n",
    "    for i in range(len(y_pred)):\n",
    "        if(y_pred[i] == y[i]):\n",
    "            count = count + 1       \n",
    "    return (count/len(y_pred))\n",
    "    "
   ]
  },
  {
   "cell_type": "code",
   "execution_count": 8,
   "metadata": {
    "collapsed": true
   },
   "outputs": [],
   "source": [
    "def construct_predictions(w0, w1, w2, w3, tx0, tx1, tx2, tx3, ids_t,ids0_t, ids1_t,ids2_t,ids3_t):\n",
    "# Construct the final vector of the predictions using the ids \n",
    "\n",
    "    y_pred0 = predict_labels(w0,tx0)\n",
    "    y_pred1 = predict_labels(w1,tx1)\n",
    "    y_pred2 = predict_labels(w2,tx2)\n",
    "    y_pred3 = predict_labels(w3,tx3)\n",
    "\n",
    "    y_pred = np.ones(len(ids_t))\n",
    "\n",
    "    for i in range(len(ids0_t)):\n",
    "        idx = np.where(ids_t==ids0_t[i])[0]\n",
    "        y_pred[idx] = y_pred0[i]\n",
    "\n",
    "    for i in range(len(ids1_t)):\n",
    "        idx = np.where(ids_t==ids1_t[i])[0]\n",
    "        y_pred[idx] = y_pred1[i]\n",
    "\n",
    "    for i in range(len(ids2_t)):\n",
    "        idx = np.where(ids_t==ids2_t[i])[0]\n",
    "        y_pred[idx] = y_pred2[i]\n",
    "\n",
    "    for i in range(len(ids3_t)):\n",
    "        idx = np.where(ids_t==ids3_t[i])[0]\n",
    "        y_pred[idx] = y_pred3[i]\n",
    "        \n",
    "    return y_pred"
   ]
  },
  {
   "cell_type": "code",
   "execution_count": 9,
   "metadata": {
    "collapsed": true
   },
   "outputs": [],
   "source": [
    "tx0_train, y0_train, tx0_test, y0_test, ids0_train, ids0_test = split_data(tx0, y0,ids0, 0.7, seed=1)\n",
    "tx1_train, y1_train, tx1_test, y1_test, ids1_train, ids1_test = split_data(tx1, y1,ids1, 0.7, seed=1)\n",
    "tx2_train, y2_train, tx2_test, y2_test, ids2_train, ids2_test = split_data(tx2, y2,ids2, 0.7, seed=1)\n",
    "tx3_train, y3_train, tx3_test, y3_test, ids3_train, ids3_test = split_data(tx3, y3,ids3, 0.7, seed=1)"
   ]
  },
  {
   "cell_type": "markdown",
   "metadata": {},
   "source": [
    "ridge regression with cross validation"
   ]
  },
  {
   "cell_type": "code",
   "execution_count": null,
   "metadata": {
    "collapsed": true
   },
   "outputs": [],
   "source": [
    "#find best degrees\n",
    "\n",
    "degree0 = best_degree(y0_train, tx0_train, 0.000001)\n",
    "degree1 = best_degree(y1_train, tx1_train, 0.000001)\n",
    "degree2 = best_degree(y2_train, tx2_train, 0.000001)\n",
    "degree3 = best_degree(y3_train, tx3_train, 0.000001)"
   ]
  },
  {
   "cell_type": "code",
   "execution_count": null,
   "metadata": {
    "collapsed": true
   },
   "outputs": [],
   "source": [
    "# use cross validation to find the best lambda for the ridge regression and find the optimal weigths \n",
    "\n",
    "lambda0 = best_lambda(y0_train, tx0_train, degree0)\n",
    "lambda1 = best_lambda(y1_train, tx1_train, degree1)\n",
    "lambda2 = best_lambda(y2_train, tx2_train, degree2)\n",
    "lambda3 = best_lambda(y3_train, tx3_train, degree3)\n",
    "\n"
   ]
  },
  {
   "cell_type": "code",
   "execution_count": null,
   "metadata": {
    "collapsed": true
   },
   "outputs": [],
   "source": [
    "#build polynomial extensions\n",
    "\n",
    "tx0_poly_tr = build_poly_f(tx0_train, degree0)\n",
    "tx1_poly_tr = build_poly_f(tx1_train, degree1)\n",
    "tx2_poly_tr = build_poly_f(tx2_train, degree2)\n",
    "tx3_poly_tr = build_poly_f(tx3_train, degree3)\n",
    "\n",
    "tx0_poly_te = build_poly_f(tx0_test, degree0)\n",
    "tx1_poly_te = build_poly_f(tx1_test, degree1)\n",
    "tx2_poly_te = build_poly_f(tx2_test, degree2)\n",
    "tx3_poly_te = build_poly_f(tx3_test, degree3)"
   ]
  },
  {
   "cell_type": "code",
   "execution_count": null,
   "metadata": {
    "collapsed": true
   },
   "outputs": [],
   "source": [
    "# find weigths using ridge_regression\n",
    "\n",
    "_,w0 = ridge_regression(y0_train, tx0_poly_tr, lambda0)\n",
    "_,w1 = ridge_regression(y1_train, tx1_poly_tr, lambda1)\n",
    "_,w2 = ridge_regression(y2_train, tx2_poly_tr, lambda2)\n",
    "_,w3 = ridge_regression(y3_train, tx3_poly_tr, lambda3)"
   ]
  },
  {
   "cell_type": "code",
   "execution_count": null,
   "metadata": {
    "collapsed": true
   },
   "outputs": [],
   "source": [
    "ids_test =np.concatenate([ids0_test,ids1_test,ids2_test,ids3_test],axis=0)\n",
    "y_test = np.concatenate([y0_test, y1_test, y2_test, y3_test],axis=0)"
   ]
  },
  {
   "cell_type": "code",
   "execution_count": null,
   "metadata": {
    "collapsed": true
   },
   "outputs": [],
   "source": [
    "# construct predictions\n",
    "y_pred = construct_predictions(w0, w1, w2, w3, tx0_poly_te, tx1_poly_te, tx2_poly_te, tx3_poly_te,ids_test,ids0_test, ids1_test,ids2_test,ids3_test)"
   ]
  },
  {
   "cell_type": "code",
   "execution_count": null,
   "metadata": {
    "collapsed": true
   },
   "outputs": [],
   "source": [
    "find_score(y_pred, y_test)"
   ]
  },
  {
   "cell_type": "code",
   "execution_count": null,
   "metadata": {
    "collapsed": true
   },
   "outputs": [],
   "source": []
  },
  {
   "cell_type": "code",
   "execution_count": null,
   "metadata": {
    "collapsed": true
   },
   "outputs": [],
   "source": [
    "create_csv_submission(ids_t, y_pred, 'submission.csv')"
   ]
  }
 ],
 "metadata": {
  "kernelspec": {
   "display_name": "Python 3",
   "language": "python",
   "name": "python3"
  },
  "language_info": {
   "codemirror_mode": {
    "name": "ipython",
    "version": 3
   },
   "file_extension": ".py",
   "mimetype": "text/x-python",
   "name": "python",
   "nbconvert_exporter": "python",
   "pygments_lexer": "ipython3",
   "version": "3.6.1"
  }
 },
 "nbformat": 4,
 "nbformat_minor": 2
}
