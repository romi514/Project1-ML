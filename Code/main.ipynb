{
 "cells": [
  {
   "cell_type": "markdown",
   "metadata": {},
   "source": [
    "MAIN SCRIPT"
   ]
  },
  {
   "cell_type": "code",
   "execution_count": null,
   "metadata": {},
   "outputs": [],
   "source": [
    "import numpy as np\n",
    "from helpers import *\n",
    "from implementations import *\n",
    "from clean_data import clean_data\n",
    "from visualize_features import visualize_features\n",
    "from cross_validation import *\n",
    "from poly_reg import *\n",
    "%load_ext autoreload\n",
    "%autoreload 2"
   ]
  },
  {
   "cell_type": "code",
   "execution_count": null,
   "metadata": {
    "collapsed": true
   },
   "outputs": [],
   "source": [
    "# Load Data\n",
    "path_dataset_train = \"train.csv\"\n",
    "yb, input_data, ids = load_csv_data(path_dataset_train)\n",
    "\n",
    "path_dataset_test = \"test.csv\"\n",
    "yb_t, input_data_t, ids_t = load_csv_data(path_dataset_test)"
   ]
  },
  {
   "cell_type": "code",
   "execution_count": null,
   "metadata": {
    "collapsed": true
   },
   "outputs": [],
   "source": [
    "# Data Cleaning\n",
    "tx0, tx1, tx2, tx3, y0, y1, y2, y3,ids0, ids1, ids2, ids3 = clean_data(input_data,yb,ids) # Note: Didn't use ids, no use\n",
    "\n",
    "tx0_t, tx1_t, tx2_t, tx3_t, y0_t, y1_t, y2_t, y3_t, ids0_t, ids1_t, ids2_t, ids3_t= clean_data(input_data_t,yb_t,ids_t, test=True) "
   ]
  },
  {
   "cell_type": "code",
   "execution_count": null,
   "metadata": {
    "collapsed": true
   },
   "outputs": [],
   "source": [
    "# Feature Visualization\n",
    "features = np.array([1,4,5]) # Features to compare\n",
    "visualize_features(tx0,y0,features,'Feature_comparision')"
   ]
  },
  {
   "cell_type": "code",
   "execution_count": null,
   "metadata": {
    "collapsed": true
   },
   "outputs": [],
   "source": [
    "# Score the predictions\n",
    "def find_score(y,y_pred):\n",
    "    count = 0\n",
    "    for i in range(len(y_pred)):\n",
    "        if(y_pred[i] == y[i]):\n",
    "            count = count + 1       \n",
    "    return (count/len(y_pred))\n",
    "    "
   ]
  },
  {
   "cell_type": "code",
   "execution_count": null,
   "metadata": {
    "collapsed": true
   },
   "outputs": [],
   "source": [
    "def construct_predictions(w0, w1, w2, w3, tx0, tx1, tx2, tx3, ids_t,ids0_t, ids1_t,ids2_t,ids3_t):\n",
    "# Construct the final vector of the predictions using the ids \n",
    "\n",
    "    y_pred0 = predict_labels(w0,tx0)\n",
    "    y_pred1 = predict_labels(w1,tx1)\n",
    "    y_pred2 = predict_labels(w2,tx2)\n",
    "    y_pred3 = predict_labels(w3,tx3)\n",
    "\n",
    "    y_pred = np.ones(len(ids_t))\n",
    "\n",
    "    for i in range(len(ids0_t)):\n",
    "        idx = np.where(ids_t==ids0_t[i])[0]\n",
    "        y_pred[idx] = y_pred0[i]\n",
    "\n",
    "    for i in range(len(ids1_t)):\n",
    "        idx = np.where(ids_t==ids1_t[i])[0]\n",
    "        y_pred[idx] = y_pred1[i]\n",
    "\n",
    "    for i in range(len(ids2_t)):\n",
    "        idx = np.where(ids_t==ids2_t[i])[0]\n",
    "        y_pred[idx] = y_pred2[i]\n",
    "\n",
    "    for i in range(len(ids3_t)):\n",
    "        idx = np.where(ids_t==ids3_t[i])[0]\n",
    "        y_pred[idx] = y_pred3[i]\n",
    "        \n",
    "    return y_pred"
   ]
  },
  {
   "cell_type": "markdown",
   "metadata": {},
   "source": [
    "ridge regression with cross validation"
   ]
  },
  {
   "cell_type": "code",
   "execution_count": null,
   "metadata": {
    "collapsed": true
   },
   "outputs": [],
   "source": [
    "# use cross validation to find the best lambda for the ridge regression and find the optimal weigths \n",
    "\n",
    "lambda0 = best_lambda(y0, tx0)\n",
    "lambda1 = best_lambda(y1, tx1)\n",
    "lambda2 = best_lambda(y2, tx2)\n",
    "lambda3 = best_lambda(y3, tx3)\n"
   ]
  },
  {
   "cell_type": "code",
   "execution_count": null,
   "metadata": {
    "collapsed": true
   },
   "outputs": [],
   "source": [
    "#find best degrees\n",
    "\n",
    "degree0 = best_degree(y0, tx0, lambda0)\n",
    "degree1 = best_degree(y1, tx1, lambda1)\n",
    "degree2 = best_degree(y2, tx2, lambda2)\n",
    "degree3 = best_degree(y3, tx3, lambda3)"
   ]
  },
  {
   "cell_type": "code",
   "execution_count": null,
   "metadata": {
    "collapsed": true
   },
   "outputs": [],
   "source": [
    "#build polynomial extensions\n",
    "\n",
    "tx0_poly = build_poly_f(tx0, int(degree0))\n",
    "tx1_poly = build_poly_f(tx1, int(degree1))\n",
    "tx2_poly = build_poly_f(tx2, int(degree2))\n",
    "tx3_poly = build_poly_f(tx3, int(degree3))\n",
    "\n",
    "tx0_poly_t = build_poly_f(tx0_t, int(degree0))\n",
    "tx1_poly_t = build_poly_f(tx1_t, int(degree1))\n",
    "tx2_poly_t = build_poly_f(tx2_t, int(degree2))\n",
    "tx3_poly_t = build_poly_f(tx3_t, int(degree3))"
   ]
  },
  {
   "cell_type": "code",
   "execution_count": null,
   "metadata": {
    "collapsed": true
   },
   "outputs": [],
   "source": [
    "# find weigths using ridge_regression\n",
    "\n",
    "_,w0 = ridge_regression(y0, tx0_poly, lambda0)\n",
    "_,w1 = ridge_regression(y1, tx1_poly, lambda1)\n",
    "_,w2 = ridge_regression(y2, tx2_poly, lambda2)\n",
    "_,w3 = ridge_regression(y3, tx3_poly, lambda3)"
   ]
  },
  {
   "cell_type": "code",
   "execution_count": null,
   "metadata": {
    "collapsed": true
   },
   "outputs": [],
   "source": [
    "# construct predictions\n",
    "\n",
    "y_pred = construct_predictions(w0, w1, w2, w3, tx0_poly_t, tx1_poly_t, tx2_poly_t, tx3_poly_t,ids_t,ids0_t, ids1_t,ids2_t,ids3_t)"
   ]
  },
  {
   "cell_type": "code",
   "execution_count": null,
   "metadata": {
    "collapsed": true
   },
   "outputs": [],
   "source": [
    "create_csv_submission(ids_t, y_pred, 'submission.csv')"
   ]
  }
 ],
 "metadata": {
  "kernelspec": {
   "display_name": "Python 3",
   "language": "python",
   "name": "python3"
  },
  "language_info": {
   "codemirror_mode": {
    "name": "ipython",
    "version": 3
   },
   "file_extension": ".py",
   "mimetype": "text/x-python",
   "name": "python",
   "nbconvert_exporter": "python",
   "pygments_lexer": "ipython3",
   "version": "3.6.1"
  }
 },
 "nbformat": 4,
 "nbformat_minor": 2
}
