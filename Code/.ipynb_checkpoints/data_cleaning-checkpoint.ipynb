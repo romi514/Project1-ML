{
 "cells": [
  {
   "cell_type": "markdown",
   "metadata": {},
   "source": [
    "MAIN SCRIPT"
   ]
  },
  {
   "cell_type": "code",
   "execution_count": 46,
   "metadata": {},
   "outputs": [
    {
     "name": "stdout",
     "output_type": "stream",
     "text": [
      "The autoreload extension is already loaded. To reload it, use:\n",
      "  %reload_ext autoreload\n"
     ]
    }
   ],
   "source": [
    "import numpy as np\n",
    "import matplotlib.pyplot as plt\n",
    "from helpers import *\n",
    "%load_ext autoreload\n",
    "%autoreload 2"
   ]
  },
  {
   "cell_type": "code",
   "execution_count": 64,
   "metadata": {},
   "outputs": [],
   "source": [
    "path_dataset = \"train.csv\"\n",
    "yb, raw_input_data, ids = load_csv_data(path_dataset)"
   ]
  },
  {
   "cell_type": "code",
   "execution_count": 48,
   "metadata": {},
   "outputs": [
    {
     "name": "stdout",
     "output_type": "stream",
     "text": [
      "(250000,)\n",
      "30\n",
      "(250000,)\n"
     ]
    }
   ],
   "source": [
    "print(yb.shape)\n",
    "print(raw_input_data.shape[1])\n",
    "print(ids.shape)\n",
    "\n",
    "# Treat missing values by replacing them by the feature's mean value\n",
    "n_features = raw_input_data.shape[1]\n",
    "\n",
    "input_data = np.copy(raw_input_data)\n",
    "input_data[np.where(input_data==-999)] = 0\n",
    "\n",
    "for i in range(0,n_features):\n",
    "    replace_value = np.mean(input_data[:,i])\n",
    "    input_data[np.where(input_data==0)] = replace_value\n"
   ]
  },
  {
   "cell_type": "code",
   "execution_count": 89,
   "metadata": {
    "collapsed": true
   },
   "outputs": [],
   "source": [
    "# Feature selection\n",
    "\n",
    "# Show corelation between features\n",
    "features_2_cmp = 5; # number of features to compare (first 'n' features)\n",
    "save_name = \"Feature_comparision\"\n",
    "\n",
    "f, axs = plt.subplots(features_2_cmp, features_2_cmp)\n",
    "f.set_size_inches(20,15)\n",
    "\n",
    "\n",
    "\n",
    "for i in range(0,features_2_cmp):\n",
    "    for j in range(0,features_2_cmp):\n",
    "        ax = axs[i][j]\n",
    "        if (i==j):\n",
    "            # ax.set_title(\"Feature {}\".format(i+1))\n",
    "            pass\n",
    "        else:\n",
    "            # Get rid of data for which at least one of both features is missing\n",
    "            cleaned_input_data = raw_input_data[np.logical_and(raw_input_data[:,i] != -999, raw_input_data[:,j] != -999),:]\n",
    "            cleaned_yb = yb[np.logical_and(raw_input_data[:,i] != -999,raw_input_data[:,j] != -999)]\n",
    "            \n",
    "            # change colors to see 2 different perspectives\n",
    "            if i>j\n",
    "                color1 = [1, 0.06, 0.06]\n",
    "                color2 = [0.06, 0.06, 1]\n",
    "            else\n",
    "                color2 = [1, 0.06, 0.06]\n",
    "                color1 = [0.06, 0.06, 1]\n",
    "            \n",
    "            # Scatter\n",
    "            ax.scatter(cleaned_input_data[np.where(cleaned_yb == 1),i],\n",
    "                       cleaned_input_data[np.where(cleaned_yb == 1),j],\n",
    "                       color=color1, s=3, facecolor='none')\n",
    "            ax.scatter(cleaned_input_data[np.where(cleaned_yb == -1),i],\n",
    "                       cleaned_input_data[np.where(cleaned_yb == -1),j],\n",
    "                       color=color2, s=3,facecolor='none')\n",
    "            ax.set_xlabel(\"Feature {}\".format(i+1))\n",
    "            ax.set_ylabel(\"Feature {}\".format(j+1))\n",
    "            ax.grid()\n",
    "            \n",
    "plt.tight_layout()\n",
    "plt.savefig(save_name,dpi=200)\n",
    "    \n",
    "    \n",
    "# According to plots, choose with features to drop\n",
    "    \n",
    "    "
   ]
  },
  {
   "cell_type": "code",
   "execution_count": null,
   "metadata": {
    "collapsed": true
   },
   "outputs": [],
   "source": [
    "# Deal with outliers"
   ]
  },
  {
   "cell_type": "code",
   "execution_count": 53,
   "metadata": {},
   "outputs": [
    {
     "name": "stdout",
     "output_type": "stream",
     "text": [
      "[ 1. -1. -1. ...,  1. -1. -1.]\n"
     ]
    }
   ],
   "source": [
    "# Cross Validaiton with several models\n",
    "\n",
    "# Ensemble Learning (bagging)"
   ]
  }
 ],
 "metadata": {
  "kernelspec": {
   "display_name": "Python 3",
   "language": "python",
   "name": "python3"
  },
  "language_info": {
   "codemirror_mode": {
    "name": "ipython",
    "version": 3
   },
   "file_extension": ".py",
   "mimetype": "text/x-python",
   "name": "python",
   "nbconvert_exporter": "python",
   "pygments_lexer": "ipython3",
   "version": "3.6.1"
  }
 },
 "nbformat": 4,
 "nbformat_minor": 2
}
